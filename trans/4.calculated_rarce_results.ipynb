{
 "cells": [
  {
   "cell_type": "code",
   "execution_count": 0,
   "metadata": {
    "application/vnd.databricks.v1+cell": {
     "cellMetadata": {
      "byteLimit": 2048000,
      "rowLimit": 10000
     },
     "inputWidgets": {},
     "nuid": "846e823f-2cf2-4fc1-ba8c-ff3bc2ef7e52",
     "showTitle": false,
     "tableResultSettingsMap": {},
     "title": ""
    }
   },
   "outputs": [],
   "source": [
    "USE f1_processed"
   ]
  },
  {
   "cell_type": "code",
   "execution_count": 0,
   "metadata": {
    "application/vnd.databricks.v1+cell": {
     "cellMetadata": {
      "byteLimit": 2048000,
      "rowLimit": 10000
     },
     "inputWidgets": {},
     "nuid": "16564cc6-ead5-409a-9747-a29c8e25798d",
     "showTitle": false,
     "tableResultSettingsMap": {},
     "title": ""
    }
   },
   "outputs": [],
   "source": [
    "CREATE TABLE f1_presentation.calculated_race_results\n",
    "USING PARQUET\n",
    "AS\n",
    "select rc.race_year,\n",
    "    c.name as team_name,\n",
    "    d.name as driver_name,\n",
    "    r.position,\n",
    "    r.points,\n",
    "    11 - r.position as calculated_points\n",
    "from f1_processed.results as r \n",
    "join f1_processed.drivers as d \n",
    "on r.driver_id = d.driver_id\n",
    "join f1_processed.constructors as c \n",
    "on r.constructor_id = c.constructor_id\n",
    "join f1_processed.races as rc \n",
    "on r.race_id = rc.race_id\n",
    "where position <= 10\n"
   ]
  }
 ],
 "metadata": {
  "application/vnd.databricks.v1+notebook": {
   "computePreferences": null,
   "dashboards": [],
   "environmentMetadata": {
    "base_environment": "",
    "environment_version": "2"
   },
   "inputWidgetPreferences": null,
   "language": "sql",
   "notebookMetadata": {},
   "notebookName": "4.calculated_rarce_results",
   "widgets": {}
  },
  "language_info": {
   "name": "sql"
  }
 },
 "nbformat": 4,
 "nbformat_minor": 0
}
