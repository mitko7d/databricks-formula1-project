{
 "cells": [
  {
   "cell_type": "code",
   "execution_count": 0,
   "metadata": {
    "application/vnd.databricks.v1+cell": {
     "cellMetadata": {
      "byteLimit": 2048000,
      "rowLimit": 10000
     },
     "inputWidgets": {},
     "nuid": "5e544c84-5dbd-4f93-87c9-3e7ffa758d1f",
     "showTitle": false,
     "tableResultSettingsMap": {},
     "title": ""
    }
   },
   "outputs": [],
   "source": [
    "from pyspark.sql.functions import current_timestamp\n",
    "\n",
    "def add_ingestion_date(input_df):\n",
    "    output_df = input_df.withColumn('ingestion_date', current_timestamp())\n",
    "    return output_df"
   ]
  },
  {
   "cell_type": "code",
   "execution_count": 0,
   "metadata": {
    "application/vnd.databricks.v1+cell": {
     "cellMetadata": {
      "byteLimit": 2048000,
      "rowLimit": 10000
     },
     "inputWidgets": {},
     "nuid": "2f85677c-c15c-464b-b571-93a32739e249",
     "showTitle": false,
     "tableResultSettingsMap": {},
     "title": ""
    }
   },
   "outputs": [],
   "source": [
    "def re_arrange_partition_column(input_df, partition_column):\n",
    "    column_list = input_df.schema.names\n",
    "    column_list.remove(partition_column)\n",
    "    column_list.append(partition_column)\n",
    "    output_df = input_df.select(column_list)\n",
    "    return output_df"
   ]
  },
  {
   "cell_type": "code",
   "execution_count": 0,
   "metadata": {
    "application/vnd.databricks.v1+cell": {
     "cellMetadata": {
      "byteLimit": 2048000,
      "rowLimit": 10000
     },
     "inputWidgets": {},
     "nuid": "4c7691a7-96b7-4b82-aaf6-02d72ff94322",
     "showTitle": false,
     "tableResultSettingsMap": {},
     "title": ""
    }
   },
   "outputs": [],
   "source": [
    "def overwrite_partition(input_df, db_name, table_name, partition_column):\n",
    "    output_df = re_arrange_partition_column(input_df, partition_column)\n",
    "\n",
    "    spark.conf.set('spark.sql.sources.partitionOverwriteMode', 'dynamic')\n",
    "\n",
    "    if (spark._jsparkSession.catalog().tableExists(f'{db_name}.{table_name}')):\n",
    "        output_df.write.mode('overwrite').insertInto(f'{db_name}.{table_name}')\n",
    "    else:\n",
    "        output_df.write.mode('overwrite').partitionBy(f'{partition_column}').format('parquet').saveAsTable(f'{db_name}.{table_name}')"
   ]
  },
  {
   "cell_type": "code",
   "execution_count": 0,
   "metadata": {
    "application/vnd.databricks.v1+cell": {
     "cellMetadata": {
      "byteLimit": 2048000,
      "rowLimit": 10000
     },
     "inputWidgets": {},
     "nuid": "f3851d02-d9a0-4c1b-9d49-bcd482fe2982",
     "showTitle": false,
     "tableResultSettingsMap": {},
     "title": ""
    }
   },
   "outputs": [],
   "source": [
    "def df_column_to_list(input_df, column_name):\n",
    "    df_row_list = input_df.select(column_name)\\\n",
    "        .distinct()\\\n",
    "        .collect()\n",
    "    column_value_list = [row[column_name] for row in df_row_list]\n",
    "    return column_value_list"
   ]
  },
  {
   "cell_type": "code",
   "execution_count": 0,
   "metadata": {
    "application/vnd.databricks.v1+cell": {
     "cellMetadata": {},
     "inputWidgets": {},
     "nuid": "cfd4b8ae-ab5b-41d5-9aaf-080e98e2961c",
     "showTitle": false,
     "tableResultSettingsMap": {},
     "title": ""
    }
   },
   "outputs": [],
   "source": [
    "def merge_delta_data(input_df, db_name, table_name, folder_path, merge_condition, partition_column):\n",
    "    spark.conf.set('spark.databricks.optimizer.dynamicPartitionPruning', 'true')\n",
    "\n",
    "    from delta.tables import DeltaTable\n",
    "\n",
    "    if (spark._jsparkSession.catalog().tableExists(f'{db_name}.{table_name}')):\n",
    "        deltaTable = DeltaTable.forPath(spark, f'{folder_path}/{table_name}')\n",
    "        deltaTable.alias('tgt').merge(\n",
    "        input_df.alias('tmp'),\n",
    "        merge_condition\n",
    "        )\\\n",
    "        .whenMatchedUpdateAll()\\\n",
    "        .whenNotMatchedInsertAll()\\\n",
    "        .execute()\n",
    "    else:\n",
    "        input_df.write.mode('overwrite').partitionBy(f'{partition_column}').format('delta').saveAsTable(f'{db_name}.{table_name}')"
   ]
  }
 ],
 "metadata": {
  "application/vnd.databricks.v1+notebook": {
   "computePreferences": null,
   "dashboards": [],
   "environmentMetadata": {
    "base_environment": "",
    "environment_version": "2"
   },
   "inputWidgetPreferences": null,
   "language": "python",
   "notebookMetadata": {
    "pythonIndentUnit": 4
   },
   "notebookName": "common_functions",
   "widgets": {}
  },
  "language_info": {
   "name": "python"
  }
 },
 "nbformat": 4,
 "nbformat_minor": 0
}
