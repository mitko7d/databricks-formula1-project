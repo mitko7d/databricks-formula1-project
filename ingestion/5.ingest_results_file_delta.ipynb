{
 "cells": [
  {
   "cell_type": "code",
   "execution_count": 0,
   "metadata": {
    "application/vnd.databricks.v1+cell": {
     "cellMetadata": {
      "byteLimit": 2048000,
      "rowLimit": 10000
     },
     "inputWidgets": {},
     "nuid": "571add01-11c8-432e-8ff3-8ec0a2a6e089",
     "showTitle": false,
     "tableResultSettingsMap": {},
     "title": ""
    }
   },
   "outputs": [],
   "source": [
    "from pyspark.sql.types import *\n",
    "from pyspark.sql.functions import *"
   ]
  },
  {
   "cell_type": "code",
   "execution_count": 0,
   "metadata": {
    "application/vnd.databricks.v1+cell": {
     "cellMetadata": {
      "byteLimit": 2048000,
      "rowLimit": 10000
     },
     "inputWidgets": {},
     "nuid": "6c4a8e8d-fde5-440e-9c9d-dd18779a440f",
     "showTitle": false,
     "tableResultSettingsMap": {},
     "title": ""
    }
   },
   "outputs": [],
   "source": [
    "dbutils.widgets.text('p_data_source', '')\n",
    "v_data_source = dbutils.widgets.get('p_data_source')"
   ]
  },
  {
   "cell_type": "code",
   "execution_count": 0,
   "metadata": {
    "application/vnd.databricks.v1+cell": {
     "cellMetadata": {
      "byteLimit": 2048000,
      "rowLimit": 10000
     },
     "inputWidgets": {},
     "nuid": "183bc0d6-7638-42d6-9b30-9f92c42df2ba",
     "showTitle": false,
     "tableResultSettingsMap": {},
     "title": ""
    }
   },
   "outputs": [],
   "source": [
    "dbutils.widgets.text('p_file_date', '2021-03-21')\n",
    "v_file_date = dbutils.widgets.get('p_file_date')"
   ]
  },
  {
   "cell_type": "code",
   "execution_count": 0,
   "metadata": {
    "application/vnd.databricks.v1+cell": {
     "cellMetadata": {
      "byteLimit": 2048000,
      "rowLimit": 10000
     },
     "inputWidgets": {},
     "nuid": "f6aedce4-d5a1-4cf7-8511-9f16b5df82a7",
     "showTitle": false,
     "tableResultSettingsMap": {},
     "title": ""
    }
   },
   "outputs": [],
   "source": [
    "%run \"../includes/configuration\""
   ]
  },
  {
   "cell_type": "code",
   "execution_count": 0,
   "metadata": {
    "application/vnd.databricks.v1+cell": {
     "cellMetadata": {
      "byteLimit": 2048000,
      "rowLimit": 10000
     },
     "inputWidgets": {},
     "nuid": "adb5aa22-7aac-4176-83aa-a36882583a8e",
     "showTitle": false,
     "tableResultSettingsMap": {},
     "title": ""
    }
   },
   "outputs": [],
   "source": [
    "%run \"../includes/common_functions\""
   ]
  },
  {
   "cell_type": "code",
   "execution_count": 0,
   "metadata": {
    "application/vnd.databricks.v1+cell": {
     "cellMetadata": {
      "byteLimit": 2048000,
      "rowLimit": 10000
     },
     "inputWidgets": {},
     "nuid": "69c2f1be-56ee-43e4-b27e-ddc5f5704f18",
     "showTitle": false,
     "tableResultSettingsMap": {},
     "title": ""
    }
   },
   "outputs": [],
   "source": [
    "results_schema = StructType(\n",
    "    [\n",
    "        StructField('resultId', IntegerType(), False),\n",
    "        StructField('raceId', IntegerType(), False),\n",
    "        StructField('driverId', IntegerType(), False),\n",
    "        StructField('constructorId',IntegerType(), False),\n",
    "        StructField('number', IntegerType(), True),\n",
    "        StructField('grid', IntegerType(), False),\n",
    "        StructField('position', IntegerType(), True),\n",
    "        StructField('positionText', StringType(), False),\n",
    "        StructField('positionOrder', IntegerType(), False),\n",
    "        StructField('points', FloatType(), False),\n",
    "        StructField('laps', IntegerType(), False),\n",
    "        StructField('time', StringType(), True),\n",
    "        StructField('milliseconds', IntegerType(), True),\n",
    "        StructField('fastestLap', IntegerType(), True),\n",
    "        StructField('rank', IntegerType(), True),\n",
    "        StructField('fastestLapTime', StringType(), True),\n",
    "        StructField('fastestLapSpeed', StringType(), True),\n",
    "        StructField('statusId', IntegerType(), False)\n",
    "    ]\n",
    ")"
   ]
  },
  {
   "cell_type": "code",
   "execution_count": 0,
   "metadata": {
    "application/vnd.databricks.v1+cell": {
     "cellMetadata": {
      "byteLimit": 2048000,
      "rowLimit": 10000
     },
     "inputWidgets": {},
     "nuid": "46bd0f03-d913-4ead-8154-760cf04098a3",
     "showTitle": false,
     "tableResultSettingsMap": {},
     "title": ""
    }
   },
   "outputs": [],
   "source": [
    "result_df = spark.read \\\n",
    "    .schema(results_schema) \\\n",
    "    .json(f'{raw_folder_path}/{v_file_date}/results.json') \\\n",
    "    .withColumnRenamed('resultId', 'result_id') \\\n",
    "    .withColumnRenamed('raceId', 'race_id') \\\n",
    "    .withColumnRenamed('driverId', 'driver_id') \\\n",
    "    .withColumnRenamed('constructorId', 'constructor_id') \\\n",
    "    .withColumnRenamed('positionText', 'position_text') \\\n",
    "    .withColumnRenamed('positionOrder', 'position_order') \\\n",
    "    .withColumnRenamed('fastestLap', 'fastest_lap') \\\n",
    "    .withColumnRenamed('fastestLapTime', 'fastest_lap_time') \\\n",
    "    .withColumnRenamed('fastestLapSpeed', 'fastest_lap_speed') \\\n",
    "    .drop('statusId') \\\n",
    "    .withColumn('data_source', lit(v_data_source)) \\\n",
    "    .withColumn('file_date', lit(v_file_date)) \\\n",
    "    .withColumn('ingestion_date', current_timestamp())\\\n",
    "    .dropDuplicates(['race_id', 'driver_id'])"
   ]
  },
  {
   "cell_type": "code",
   "execution_count": 0,
   "metadata": {
    "application/vnd.databricks.v1+cell": {
     "cellMetadata": {
      "byteLimit": 2048000,
      "rowLimit": 10000
     },
     "inputWidgets": {},
     "nuid": "3d36e6d5-ce78-4f94-8f7d-a1c04a32d75e",
     "showTitle": false,
     "tableResultSettingsMap": {},
     "title": ""
    }
   },
   "outputs": [],
   "source": [
    "v_merge_condition = 'tgt.result_id = tmp.result_id AND tgt.race_id = tmp.race_id'\n",
    "merge_delta_data(result_df, 'f1_processed', 'results', processed_folder_path, v_merge_condition, 'race_id')"
   ]
  },
  {
   "cell_type": "code",
   "execution_count": 0,
   "metadata": {
    "application/vnd.databricks.v1+cell": {
     "cellMetadata": {
      "byteLimit": 2048000,
      "rowLimit": 10000
     },
     "inputWidgets": {},
     "nuid": "570b927f-c146-46f7-bdf2-0fa7f9d091bd",
     "showTitle": false,
     "tableResultSettingsMap": {},
     "title": ""
    }
   },
   "outputs": [],
   "source": [
    "dbutils.notebook.exit('Success')"
   ]
  },
  {
   "cell_type": "code",
   "execution_count": 0,
   "metadata": {
    "application/vnd.databricks.v1+cell": {
     "cellMetadata": {
      "byteLimit": 2048000,
      "implicitDf": true,
      "rowLimit": 10000
     },
     "inputWidgets": {},
     "nuid": "dc1d6bcc-9b65-4ffa-b527-ee584948ca3f",
     "showTitle": false,
     "tableResultSettingsMap": {},
     "title": ""
    }
   },
   "outputs": [],
   "source": [
    "%sql\n",
    "select race_id, driver_id, count(*)\n",
    "from f1_processed.results\n",
    "group by race_id, driver_id\n",
    "having count(*) > 1\n",
    "order by race_id, driver_id desc"
   ]
  }
 ],
 "metadata": {
  "application/vnd.databricks.v1+notebook": {
   "computePreferences": null,
   "dashboards": [],
   "environmentMetadata": {
    "base_environment": "",
    "environment_version": "2"
   },
   "inputWidgetPreferences": null,
   "language": "python",
   "notebookMetadata": {
    "mostRecentlyExecutedCommandWithImplicitDF": {
     "commandId": 5038871748983826,
     "dataframes": [
      "_sqldf"
     ]
    },
    "pythonIndentUnit": 4
   },
   "notebookName": "5.ingest_results_file_delta",
   "widgets": {
    "p_data_source": {
     "currentValue": "Ergast_API",
     "nuid": "f488fa7b-55f0-4a48-8ed1-3a2caca1559f",
     "typedWidgetInfo": {
      "autoCreated": false,
      "defaultValue": "",
      "label": null,
      "name": "p_data_source",
      "options": {
       "widgetDisplayType": "Text",
       "validationRegex": null
      },
      "parameterDataType": "String"
     },
     "widgetInfo": {
      "widgetType": "text",
      "defaultValue": "",
      "label": null,
      "name": "p_data_source",
      "options": {
       "widgetType": "text",
       "autoCreated": null,
       "validationRegex": null
      }
     }
    },
    "p_file_date": {
     "currentValue": "2021-03-21",
     "nuid": "a98eb317-af76-400b-b692-932462949bef",
     "typedWidgetInfo": {
      "autoCreated": false,
      "defaultValue": "2021-03-21",
      "label": null,
      "name": "p_file_date",
      "options": {
       "widgetDisplayType": "Text",
       "validationRegex": null
      },
      "parameterDataType": "String"
     },
     "widgetInfo": {
      "widgetType": "text",
      "defaultValue": "2021-03-21",
      "label": null,
      "name": "p_file_date",
      "options": {
       "widgetType": "text",
       "autoCreated": null,
       "validationRegex": null
      }
     }
    }
   }
  },
  "language_info": {
   "name": "python"
  }
 },
 "nbformat": 4,
 "nbformat_minor": 0
}
